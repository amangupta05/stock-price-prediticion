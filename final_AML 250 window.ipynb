{
 "cells": [
  {
   "cell_type": "code",
   "execution_count": 31,
   "metadata": {
    "id": "JK7FRujREvy6"
   },
   "outputs": [],
   "source": [
    "import pandas as pd\n",
    "import numpy as np\n",
    "from sklearn.preprocessing import MinMaxScaler\n",
    "import tensorflow as tf"
   ]
  },
  {
   "cell_type": "code",
   "execution_count": 32,
   "metadata": {
    "id": "1JC9ut56Ez_4"
   },
   "outputs": [],
   "source": [
    "df = pd.read_csv(\"RELIANCE.NS.csv\")"
   ]
  },
  {
   "cell_type": "code",
   "execution_count": 33,
   "metadata": {
    "id": "cjXqVqJ4Ez9i"
   },
   "outputs": [],
   "source": [
    "# Drop any missing values\n",
    "df.dropna(inplace=True)\n",
    "\n",
    "# Convert the 'Date' column to a datetime object\n",
    "df['Date'] = pd.to_datetime(df['Date'])\n",
    "\n",
    "# Sort the DataFrame by date\n",
    "df.sort_values('Date', inplace=True)\n",
    "\n",
    "# Select the 'Close' column as the target variable\n",
    "target_col = 'Close'\n",
    "\n",
    "# Define the sliding window size\n",
    "window_size = 250"
   ]
  },
  {
   "cell_type": "code",
   "execution_count": 34,
   "metadata": {},
   "outputs": [
    {
     "data": {
      "text/html": [
       "<div>\n",
       "<style scoped>\n",
       "    .dataframe tbody tr th:only-of-type {\n",
       "        vertical-align: middle;\n",
       "    }\n",
       "\n",
       "    .dataframe tbody tr th {\n",
       "        vertical-align: top;\n",
       "    }\n",
       "\n",
       "    .dataframe thead th {\n",
       "        text-align: right;\n",
       "    }\n",
       "</style>\n",
       "<table border=\"1\" class=\"dataframe\">\n",
       "  <thead>\n",
       "    <tr style=\"text-align: right;\">\n",
       "      <th></th>\n",
       "      <th>Date</th>\n",
       "      <th>Open</th>\n",
       "      <th>High</th>\n",
       "      <th>Low</th>\n",
       "      <th>Close</th>\n",
       "      <th>Adj Close</th>\n",
       "      <th>Volume</th>\n",
       "    </tr>\n",
       "  </thead>\n",
       "  <tbody>\n",
       "    <tr>\n",
       "      <th>0</th>\n",
       "      <td>2013-05-03</td>\n",
       "      <td>397.729919</td>\n",
       "      <td>404.119354</td>\n",
       "      <td>393.717957</td>\n",
       "      <td>396.491669</td>\n",
       "      <td>369.337555</td>\n",
       "      <td>5961256.0</td>\n",
       "    </tr>\n",
       "    <tr>\n",
       "      <th>1</th>\n",
       "      <td>2013-05-06</td>\n",
       "      <td>397.333679</td>\n",
       "      <td>408.601868</td>\n",
       "      <td>397.333679</td>\n",
       "      <td>406.942596</td>\n",
       "      <td>379.072693</td>\n",
       "      <td>4318845.0</td>\n",
       "    </tr>\n",
       "    <tr>\n",
       "      <th>2</th>\n",
       "      <td>2013-05-07</td>\n",
       "      <td>406.893066</td>\n",
       "      <td>414.025452</td>\n",
       "      <td>405.976746</td>\n",
       "      <td>410.186829</td>\n",
       "      <td>382.094757</td>\n",
       "      <td>7628531.0</td>\n",
       "    </tr>\n",
       "    <tr>\n",
       "      <th>3</th>\n",
       "      <td>2013-05-08</td>\n",
       "      <td>411.152679</td>\n",
       "      <td>412.539551</td>\n",
       "      <td>407.165466</td>\n",
       "      <td>410.929810</td>\n",
       "      <td>382.786896</td>\n",
       "      <td>5472648.0</td>\n",
       "    </tr>\n",
       "    <tr>\n",
       "      <th>4</th>\n",
       "      <td>2013-05-09</td>\n",
       "      <td>410.310669</td>\n",
       "      <td>411.920410</td>\n",
       "      <td>403.673584</td>\n",
       "      <td>405.209015</td>\n",
       "      <td>377.457886</td>\n",
       "      <td>3776240.0</td>\n",
       "    </tr>\n",
       "  </tbody>\n",
       "</table>\n",
       "</div>"
      ],
      "text/plain": [
       "        Date        Open        High         Low       Close   Adj Close   \n",
       "0 2013-05-03  397.729919  404.119354  393.717957  396.491669  369.337555  \\\n",
       "1 2013-05-06  397.333679  408.601868  397.333679  406.942596  379.072693   \n",
       "2 2013-05-07  406.893066  414.025452  405.976746  410.186829  382.094757   \n",
       "3 2013-05-08  411.152679  412.539551  407.165466  410.929810  382.786896   \n",
       "4 2013-05-09  410.310669  411.920410  403.673584  405.209015  377.457886   \n",
       "\n",
       "      Volume  \n",
       "0  5961256.0  \n",
       "1  4318845.0  \n",
       "2  7628531.0  \n",
       "3  5472648.0  \n",
       "4  3776240.0  "
      ]
     },
     "execution_count": 34,
     "metadata": {},
     "output_type": "execute_result"
    }
   ],
   "source": [
    "df.head()"
   ]
  },
  {
   "cell_type": "code",
   "execution_count": 35,
   "metadata": {},
   "outputs": [
    {
     "data": {
      "text/html": [
       "<div>\n",
       "<style scoped>\n",
       "    .dataframe tbody tr th:only-of-type {\n",
       "        vertical-align: middle;\n",
       "    }\n",
       "\n",
       "    .dataframe tbody tr th {\n",
       "        vertical-align: top;\n",
       "    }\n",
       "\n",
       "    .dataframe thead th {\n",
       "        text-align: right;\n",
       "    }\n",
       "</style>\n",
       "<table border=\"1\" class=\"dataframe\">\n",
       "  <thead>\n",
       "    <tr style=\"text-align: right;\">\n",
       "      <th></th>\n",
       "      <th>Date</th>\n",
       "      <th>Open</th>\n",
       "      <th>High</th>\n",
       "      <th>Low</th>\n",
       "      <th>Close</th>\n",
       "      <th>Adj Close</th>\n",
       "      <th>Volume</th>\n",
       "    </tr>\n",
       "  </thead>\n",
       "  <tbody>\n",
       "    <tr>\n",
       "      <th>2462</th>\n",
       "      <td>2023-04-25</td>\n",
       "      <td>2366.000000</td>\n",
       "      <td>2380.600098</td>\n",
       "      <td>2350.500000</td>\n",
       "      <td>2376.050049</td>\n",
       "      <td>2376.050049</td>\n",
       "      <td>4262471.0</td>\n",
       "    </tr>\n",
       "    <tr>\n",
       "      <th>2463</th>\n",
       "      <td>2023-04-26</td>\n",
       "      <td>2379.000000</td>\n",
       "      <td>2386.100098</td>\n",
       "      <td>2354.050049</td>\n",
       "      <td>2362.100098</td>\n",
       "      <td>2362.100098</td>\n",
       "      <td>3977129.0</td>\n",
       "    </tr>\n",
       "    <tr>\n",
       "      <th>2464</th>\n",
       "      <td>2023-04-27</td>\n",
       "      <td>2375.000000</td>\n",
       "      <td>2384.000000</td>\n",
       "      <td>2364.000000</td>\n",
       "      <td>2377.050049</td>\n",
       "      <td>2377.050049</td>\n",
       "      <td>4230627.0</td>\n",
       "    </tr>\n",
       "    <tr>\n",
       "      <th>2465</th>\n",
       "      <td>2023-04-28</td>\n",
       "      <td>2382.000000</td>\n",
       "      <td>2423.899902</td>\n",
       "      <td>2381.750000</td>\n",
       "      <td>2420.500000</td>\n",
       "      <td>2420.500000</td>\n",
       "      <td>7183342.0</td>\n",
       "    </tr>\n",
       "    <tr>\n",
       "      <th>2466</th>\n",
       "      <td>2023-05-02</td>\n",
       "      <td>2436.199951</td>\n",
       "      <td>2445.800049</td>\n",
       "      <td>2428.100098</td>\n",
       "      <td>2441.050049</td>\n",
       "      <td>2441.050049</td>\n",
       "      <td>5988299.0</td>\n",
       "    </tr>\n",
       "  </tbody>\n",
       "</table>\n",
       "</div>"
      ],
      "text/plain": [
       "           Date         Open         High          Low        Close   \n",
       "2462 2023-04-25  2366.000000  2380.600098  2350.500000  2376.050049  \\\n",
       "2463 2023-04-26  2379.000000  2386.100098  2354.050049  2362.100098   \n",
       "2464 2023-04-27  2375.000000  2384.000000  2364.000000  2377.050049   \n",
       "2465 2023-04-28  2382.000000  2423.899902  2381.750000  2420.500000   \n",
       "2466 2023-05-02  2436.199951  2445.800049  2428.100098  2441.050049   \n",
       "\n",
       "        Adj Close     Volume  \n",
       "2462  2376.050049  4262471.0  \n",
       "2463  2362.100098  3977129.0  \n",
       "2464  2377.050049  4230627.0  \n",
       "2465  2420.500000  7183342.0  \n",
       "2466  2441.050049  5988299.0  "
      ]
     },
     "execution_count": 35,
     "metadata": {},
     "output_type": "execute_result"
    }
   ],
   "source": [
    "df.tail()"
   ]
  },
  {
   "cell_type": "code",
   "execution_count": 36,
   "metadata": {
    "id": "Pa-U1c9UEz7O"
   },
   "outputs": [],
   "source": [
    "# Normalize the data using MinMaxScaler\n",
    "scaler = MinMaxScaler()\n",
    "df[[target_col]] = scaler.fit_transform(df[[target_col]])\n",
    "\n",
    "# Split the data into training and testing sets\n",
    "train_size = int(0.8 * len(df))\n",
    "train_df = df[:train_size].reset_index(drop=True)\n",
    "test_df = df[train_size:].reset_index(drop=True)\n",
    "\n",
    "# Create sliding windows of data for the training set\n",
    "train_X, train_y = [], []\n",
    "for i in range(window_size, len(train_df)):\n",
    "    train_X.append(train_df[target_col].iloc[i-window_size:i])\n",
    "    train_y.append(train_df[target_col].iloc[i])\n",
    "train_X, train_y = np.array(train_X), np.array(train_y)\n",
    "\n",
    "# Create sliding windows of data for the testing set\n",
    "test_X, test_y = [], []\n",
    "for i in range(window_size, len(test_df)):\n",
    "    test_X.append(test_df[target_col].iloc[i-window_size:i])\n",
    "    test_y.append(test_df[target_col].iloc[i])\n",
    "test_X, test_y = np.array(test_X), np.array(test_y)"
   ]
  },
  {
   "cell_type": "code",
   "execution_count": 37,
   "metadata": {
    "id": "VQttUIX9Ez4l"
   },
   "outputs": [],
   "source": [
    "# Reshape the data to fit the LSTM input shape\n",
    "train_X = np.reshape(train_X, (train_X.shape[0], train_X.shape[1], 1))\n",
    "test_X = np.reshape(test_X, (test_X.shape[0], test_X.shape[1], 1))"
   ]
  },
  {
   "cell_type": "code",
   "execution_count": 38,
   "metadata": {
    "id": "GCC_5Sq1Ez13"
   },
   "outputs": [],
   "source": [
    "from keras.models import Sequential\n",
    "from keras.layers import LSTM, Dense\n",
    "from keras.wrappers.scikit_learn import KerasRegressor\n",
    "from sklearn.model_selection import GridSearchCV\n",
    "from keras.optimizers import Adam"
   ]
  },
  {
   "cell_type": "code",
   "execution_count": 39,
   "metadata": {},
   "outputs": [],
   "source": [
    "\n",
    "# define LSTM model\n",
    "model = Sequential()\n",
    "model.add(LSTM(units=64, input_shape=(250, 1)))\n",
    "model.add(Dense(1))\n",
    "model.compile(loss='mean_squared_error', optimizer='adam')"
   ]
  },
  {
   "cell_type": "code",
   "execution_count": 40,
   "metadata": {},
   "outputs": [
    {
     "name": "stdout",
     "output_type": "stream",
     "text": [
      "Epoch 1/50\n",
      "108/108 [==============================] - 3s 23ms/step - loss: 0.0038\n",
      "Epoch 2/50\n",
      "108/108 [==============================] - 2s 21ms/step - loss: 3.5513e-04\n",
      "Epoch 3/50\n",
      "108/108 [==============================] - 2s 20ms/step - loss: 3.3367e-04\n",
      "Epoch 4/50\n",
      "108/108 [==============================] - 2s 22ms/step - loss: 2.9284e-04\n",
      "Epoch 5/50\n",
      "108/108 [==============================] - 2s 21ms/step - loss: 3.0358e-04\n",
      "Epoch 6/50\n",
      "108/108 [==============================] - 2s 22ms/step - loss: 2.8583e-04\n",
      "Epoch 7/50\n",
      "108/108 [==============================] - 2s 21ms/step - loss: 2.7868e-04\n",
      "Epoch 8/50\n",
      "108/108 [==============================] - 2s 20ms/step - loss: 2.6669e-04\n",
      "Epoch 9/50\n",
      "108/108 [==============================] - 2s 20ms/step - loss: 2.4156e-04\n",
      "Epoch 10/50\n",
      "108/108 [==============================] - 2s 20ms/step - loss: 2.2514e-04\n",
      "Epoch 11/50\n",
      "108/108 [==============================] - 2s 21ms/step - loss: 2.3033e-04\n",
      "Epoch 12/50\n",
      "108/108 [==============================] - 2s 21ms/step - loss: 2.0742e-04\n",
      "Epoch 13/50\n",
      "108/108 [==============================] - 2s 23ms/step - loss: 2.2193e-04\n",
      "Epoch 14/50\n",
      "108/108 [==============================] - 2s 21ms/step - loss: 2.0260e-04\n",
      "Epoch 15/50\n",
      "108/108 [==============================] - 2s 20ms/step - loss: 1.7899e-04\n",
      "Epoch 16/50\n",
      "108/108 [==============================] - 2s 21ms/step - loss: 1.6996e-04\n",
      "Epoch 17/50\n",
      "108/108 [==============================] - 2s 20ms/step - loss: 1.6818e-04\n",
      "Epoch 18/50\n",
      "108/108 [==============================] - 2s 21ms/step - loss: 1.7304e-04\n",
      "Epoch 19/50\n",
      "108/108 [==============================] - 2s 21ms/step - loss: 1.9043e-04\n",
      "Epoch 20/50\n",
      "108/108 [==============================] - 2s 23ms/step - loss: 1.6698e-04\n",
      "Epoch 21/50\n",
      "108/108 [==============================] - 2s 21ms/step - loss: 1.5537e-04\n",
      "Epoch 22/50\n",
      "108/108 [==============================] - 2s 20ms/step - loss: 1.5264e-04\n",
      "Epoch 23/50\n",
      "108/108 [==============================] - 2s 21ms/step - loss: 1.3447e-04\n",
      "Epoch 24/50\n",
      "108/108 [==============================] - 2s 21ms/step - loss: 1.3550e-04\n",
      "Epoch 25/50\n",
      "108/108 [==============================] - 2s 20ms/step - loss: 1.4673e-04\n",
      "Epoch 26/50\n",
      "108/108 [==============================] - 2s 21ms/step - loss: 1.3743e-04\n",
      "Epoch 27/50\n",
      "108/108 [==============================] - 3s 23ms/step - loss: 1.3438e-04\n",
      "Epoch 28/50\n",
      "108/108 [==============================] - 2s 21ms/step - loss: 1.2575e-04\n",
      "Epoch 29/50\n",
      "108/108 [==============================] - 2s 21ms/step - loss: 1.2318e-04\n",
      "Epoch 30/50\n",
      "108/108 [==============================] - 2s 20ms/step - loss: 1.2741e-04\n",
      "Epoch 31/50\n",
      "108/108 [==============================] - 3s 23ms/step - loss: 1.2275e-04\n",
      "Epoch 32/50\n",
      "108/108 [==============================] - 2s 23ms/step - loss: 1.1196e-04\n",
      "Epoch 33/50\n",
      "108/108 [==============================] - 3s 23ms/step - loss: 1.2200e-04\n",
      "Epoch 34/50\n",
      "108/108 [==============================] - 3s 24ms/step - loss: 1.1243e-04\n",
      "Epoch 35/50\n",
      "108/108 [==============================] - 3s 25ms/step - loss: 1.0840e-04\n",
      "Epoch 36/50\n",
      "108/108 [==============================] - 2s 21ms/step - loss: 1.1912e-04\n",
      "Epoch 37/50\n",
      "108/108 [==============================] - 2s 22ms/step - loss: 1.1742e-04\n",
      "Epoch 38/50\n",
      "108/108 [==============================] - 2s 23ms/step - loss: 1.0756e-04\n",
      "Epoch 39/50\n",
      "108/108 [==============================] - 2s 22ms/step - loss: 9.6447e-05\n",
      "Epoch 40/50\n",
      "108/108 [==============================] - 2s 23ms/step - loss: 1.1146e-04\n",
      "Epoch 41/50\n",
      "108/108 [==============================] - 3s 24ms/step - loss: 1.0183e-04\n",
      "Epoch 42/50\n",
      "108/108 [==============================] - 3s 26ms/step - loss: 1.0876e-04\n",
      "Epoch 43/50\n",
      "108/108 [==============================] - 3s 28ms/step - loss: 9.1987e-05\n",
      "Epoch 44/50\n",
      "108/108 [==============================] - 3s 27ms/step - loss: 1.1483e-04\n",
      "Epoch 45/50\n",
      "108/108 [==============================] - 2s 21ms/step - loss: 9.2679e-05\n",
      "Epoch 46/50\n",
      "108/108 [==============================] - 3s 24ms/step - loss: 1.0000e-04\n",
      "Epoch 47/50\n",
      "108/108 [==============================] - 2s 20ms/step - loss: 9.8966e-05\n",
      "Epoch 48/50\n",
      "108/108 [==============================] - 2s 20ms/step - loss: 9.6722e-05\n",
      "Epoch 49/50\n",
      "108/108 [==============================] - 2s 21ms/step - loss: 1.0020e-04\n",
      "Epoch 50/50\n",
      "108/108 [==============================] - 2s 21ms/step - loss: 1.0172e-04\n"
     ]
    },
    {
     "data": {
      "text/plain": [
       "<keras.callbacks.History at 0x29cd76920>"
      ]
     },
     "execution_count": 40,
     "metadata": {},
     "output_type": "execute_result"
    }
   ],
   "source": [
    "\n",
    "\n",
    "# fit the model\n",
    "model.fit(train_X, train_y, epochs=50, batch_size=16, verbose=1)"
   ]
  },
  {
   "cell_type": "code",
   "execution_count": 45,
   "metadata": {},
   "outputs": [
    {
     "name": "stdout",
     "output_type": "stream",
     "text": [
      "54/54 [==============================] - 1s 11ms/step\n",
      "8/8 [==============================] - 0s 8ms/step\n",
      "Train MSE:  8.385191418939036e-05\n",
      "Test MSE:  0.0002474038057244697\n",
      "Train RMSE:  0.009157069082921148\n",
      "Test RMSE:  0.015729075170666258\n",
      "Train R2:  0.998229403875444\n",
      "Test R2:  0.9091165631464124\n",
      "Train MAE:  0.0058357737374480235\n",
      "Test MAE:  0.011807667197926988\n"
     ]
    }
   ],
   "source": [
    "from sklearn.metrics import mean_squared_error, mean_absolute_error, r2_score\n",
    "\n",
    "# make predictions\n",
    "train_predict = model.predict(train_X)\n",
    "test_predict = model.predict(test_X)\n",
    "\n",
    "# evaluate the model\n",
    "train_mse = mean_squared_error(train_y, train_predict)\n",
    "test_mse = mean_squared_error(test_y, test_predict)\n",
    "train_rmse = np.sqrt(train_mse)\n",
    "test_rmse = np.sqrt(test_mse)\n",
    "train_mae = mean_absolute_error(train_y, train_predict)\n",
    "test_mae = mean_absolute_error(test_y, test_predict)\n",
    "train_r2 = r2_score(train_y, train_predict)\n",
    "test_r2 = r2_score(test_y, test_predict)\n",
    "print(\"Train MSE: \", train_mse)\n",
    "print(\"Test MSE: \", test_mse)\n",
    "print(\"Train RMSE: \", train_rmse)\n",
    "print(\"Test RMSE: \", test_rmse)\n",
    "print(\"Train R2: \", train_r2)\n",
    "print(\"Test R2: \", test_r2)\n",
    "print(\"Train MAE: \", train_mae)\n",
    "print(\"Test MAE: \", test_mae)\n"
   ]
  },
  {
   "cell_type": "code",
   "execution_count": null,
   "metadata": {
    "id": "Abrnex_-Ezy7"
   },
   "outputs": [],
   "source": []
  },
  {
   "cell_type": "code",
   "execution_count": null,
   "metadata": {
    "colab": {
     "base_uri": "https://localhost:8080/"
    },
    "id": "0H8FbgkcEzwZ",
    "outputId": "a457b12b-61d9-4b5a-e0c3-91dafd7f2a8d"
   },
   "outputs": [],
   "source": []
  },
  {
   "cell_type": "code",
   "execution_count": null,
   "metadata": {
    "id": "VycvJVE1EzrZ"
   },
   "outputs": [],
   "source": []
  },
  {
   "cell_type": "code",
   "execution_count": null,
   "metadata": {
    "id": "y6cPJaGnEzor"
   },
   "outputs": [],
   "source": []
  },
  {
   "cell_type": "code",
   "execution_count": null,
   "metadata": {
    "id": "xQAXMJzrEzmR"
   },
   "outputs": [],
   "source": []
  },
  {
   "cell_type": "code",
   "execution_count": 46,
   "metadata": {
    "id": "ByDkYTlnEzjw"
   },
   "outputs": [
    {
     "name": "stdout",
     "output_type": "stream",
     "text": [
      "8/8 [==============================] - 0s 9ms/step\n"
     ]
    },
    {
     "data": {
      "image/png": "[encoded data removed]",
      "text/plain": [
       "<Figure size 640x480 with 1 Axes>"
      ]
     },
     "metadata": {},
     "output_type": "display_data"
    }
   ],
   "source": [
    "import matplotlib.pyplot as plt\n",
    "\n",
    "# Make predictions on the testing data with the trained model\n",
    "y_pred = model.predict(test_X)\n",
    "\n",
    "# # Inverse transform the normalized data\n",
    "# y_pred = scaler.inverse_transform(y_pred)\n",
    "# # Reshape test_y to a 2D array\n",
    "# test_y_2d = np.reshape(test_y, (-1, 1))\n",
    "\n",
    "# # Inverse transform the normalized data\n",
    "# y_pred = scaler.inverse_transform(y_pred)\n",
    "# test_y = scaler.inverse_transform(test_y_2d)\n",
    "\n",
    "\n",
    "# Plot the actual and predicted values\n",
    "plt.plot(test_y, label='Actual')\n",
    "plt.plot(test_predict, label='Predicted')\n",
    "\n",
    "plt.xlabel('Time (days)')\n",
    "plt.ylabel('Target value')\n",
    "plt.title('Actual vs Predicted Stock Prices')\n",
    "plt.legend()\n",
    "plt.show()"
   ]
  },
  {
   "cell_type": "code",
   "execution_count": 43,
   "metadata": {},
   "outputs": [
    {
     "name": "stdout",
     "output_type": "stream",
     "text": [
      "8/8 [==============================] - 0s 11ms/step - loss: 2.4740e-04\n",
      "Loss: 0.000247\n"
     ]
    }
   ],
   "source": [
    "loss = model.evaluate(test_X, test_y)\n",
    "\n",
    "# print the loss value\n",
    "print(\"Loss: {:.6f}\".format(loss))"
   ]
  },
  {
   "cell_type": "code",
   "execution_count": 44,
   "metadata": {},
   "outputs": [
    {
     "name": "stdout",
     "output_type": "stream",
     "text": [
      "MSE: 0.0002474038057244697\n",
      "MAE: 0.011807667197926988\n",
      "R-squared: 0.9091165631464124\n",
      "RMSE: 0.015729075170666258\n"
     ]
    }
   ],
   "source": [
    "from sklearn.metrics import mean_squared_error, mean_absolute_error, r2_score\n",
    "\n",
    "# assuming y_true and y_pred are the true and predicted labels, respectively\n",
    "mse = mean_squared_error(test_y, y_pred)\n",
    "mae = mean_absolute_error(test_y, y_pred)\n",
    "r2 = r2_score(test_y, y_pred)\n",
    "\n",
    "print(\"MSE:\", mse)\n",
    "print(\"MAE:\", mae)\n",
    "print(\"R-squared:\", r2)\n",
    "rmse = np.sqrt(mse)\n",
    "print(\"RMSE:\", rmse)"
   ]
  }
 ],
 "metadata": {
  "colab": {
   "provenance": []
  },
  "kernelspec": {
   "display_name": "Python 3.10 (tensorflow)",
   "language": "python",
   "name": "tensorflow"
  },
  "language_info": {
   "codemirror_mode": {
    "name": "ipython",
    "version": 3
   },
   "file_extension": ".py",
   "mimetype": "text/x-python",
   "name": "python",
   "nbconvert_exporter": "python",
   "pygments_lexer": "ipython3",
   "version": "3.10.10"
  }
 },
 "nbformat": 4,
 "nbformat_minor": 1
}
